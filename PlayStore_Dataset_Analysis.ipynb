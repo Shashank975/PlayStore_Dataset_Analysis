{
 "cells": [
  {
   "cell_type": "markdown",
   "id": "8afa7049",
   "metadata": {},
   "source": [
    "# --:Playstore Data Analysis:--"
   ]
  },
  {
   "cell_type": "raw",
   "id": "c5fbfee2",
   "metadata": {},
   "source": [
    "Author-> Shashank Chhoker\n",
    "Github->https://github.com/Shashank975\n",
    "Linkedin->https://www.linkedin.com/in/shashankchhoker07/\n"
   ]
  },
  {
   "cell_type": "code",
   "execution_count": 1,
   "id": "5e026004",
   "metadata": {},
   "outputs": [],
   "source": [
    "import numpy as np\n",
    "import pandas as pd\n",
    "import matplotlib.pyplot as plt\n",
    "%matplotlib inline\n",
    "from sklearn.impute import SimpleImputer"
   ]
  },
  {
   "cell_type": "code",
   "execution_count": 2,
   "id": "0410a8d7",
   "metadata": {},
   "outputs": [
    {
     "data": {
      "text/html": [
       "<div>\n",
       "<style scoped>\n",
       "    .dataframe tbody tr th:only-of-type {\n",
       "        vertical-align: middle;\n",
       "    }\n",
       "\n",
       "    .dataframe tbody tr th {\n",
       "        vertical-align: top;\n",
       "    }\n",
       "\n",
       "    .dataframe thead th {\n",
       "        text-align: right;\n",
       "    }\n",
       "</style>\n",
       "<table border=\"1\" class=\"dataframe\">\n",
       "  <thead>\n",
       "    <tr style=\"text-align: right;\">\n",
       "      <th></th>\n",
       "      <th>App</th>\n",
       "      <th>Category</th>\n",
       "      <th>Rating</th>\n",
       "      <th>Reviews</th>\n",
       "      <th>Size</th>\n",
       "      <th>Installs</th>\n",
       "      <th>Type</th>\n",
       "      <th>Price</th>\n",
       "      <th>Content Rating</th>\n",
       "      <th>Genres</th>\n",
       "      <th>Last Updated</th>\n",
       "      <th>Current Ver</th>\n",
       "      <th>Android Ver</th>\n",
       "    </tr>\n",
       "  </thead>\n",
       "  <tbody>\n",
       "    <tr>\n",
       "      <th>0</th>\n",
       "      <td>Photo Editor &amp; Candy Camera &amp; Grid &amp; ScrapBook</td>\n",
       "      <td>ART_AND_DESIGN</td>\n",
       "      <td>4.1</td>\n",
       "      <td>159</td>\n",
       "      <td>19M</td>\n",
       "      <td>10,000+</td>\n",
       "      <td>Free</td>\n",
       "      <td>0</td>\n",
       "      <td>Everyone</td>\n",
       "      <td>Art &amp; Design</td>\n",
       "      <td>January 7, 2018</td>\n",
       "      <td>1.0.0</td>\n",
       "      <td>4.0.3 and up</td>\n",
       "    </tr>\n",
       "    <tr>\n",
       "      <th>1</th>\n",
       "      <td>Coloring book moana</td>\n",
       "      <td>ART_AND_DESIGN</td>\n",
       "      <td>3.9</td>\n",
       "      <td>967</td>\n",
       "      <td>14M</td>\n",
       "      <td>500,000+</td>\n",
       "      <td>Free</td>\n",
       "      <td>0</td>\n",
       "      <td>Everyone</td>\n",
       "      <td>Art &amp; Design;Pretend Play</td>\n",
       "      <td>January 15, 2018</td>\n",
       "      <td>2.0.0</td>\n",
       "      <td>4.0.3 and up</td>\n",
       "    </tr>\n",
       "    <tr>\n",
       "      <th>2</th>\n",
       "      <td>U Launcher Lite – FREE Live Cool Themes, Hide ...</td>\n",
       "      <td>ART_AND_DESIGN</td>\n",
       "      <td>4.7</td>\n",
       "      <td>87510</td>\n",
       "      <td>8.7M</td>\n",
       "      <td>5,000,000+</td>\n",
       "      <td>Free</td>\n",
       "      <td>0</td>\n",
       "      <td>Everyone</td>\n",
       "      <td>Art &amp; Design</td>\n",
       "      <td>August 1, 2018</td>\n",
       "      <td>1.2.4</td>\n",
       "      <td>4.0.3 and up</td>\n",
       "    </tr>\n",
       "    <tr>\n",
       "      <th>3</th>\n",
       "      <td>Sketch - Draw &amp; Paint</td>\n",
       "      <td>ART_AND_DESIGN</td>\n",
       "      <td>4.5</td>\n",
       "      <td>215644</td>\n",
       "      <td>25M</td>\n",
       "      <td>50,000,000+</td>\n",
       "      <td>Free</td>\n",
       "      <td>0</td>\n",
       "      <td>Teen</td>\n",
       "      <td>Art &amp; Design</td>\n",
       "      <td>June 8, 2018</td>\n",
       "      <td>Varies with device</td>\n",
       "      <td>4.2 and up</td>\n",
       "    </tr>\n",
       "    <tr>\n",
       "      <th>4</th>\n",
       "      <td>Pixel Draw - Number Art Coloring Book</td>\n",
       "      <td>ART_AND_DESIGN</td>\n",
       "      <td>4.3</td>\n",
       "      <td>967</td>\n",
       "      <td>2.8M</td>\n",
       "      <td>100,000+</td>\n",
       "      <td>Free</td>\n",
       "      <td>0</td>\n",
       "      <td>Everyone</td>\n",
       "      <td>Art &amp; Design;Creativity</td>\n",
       "      <td>June 20, 2018</td>\n",
       "      <td>1.1</td>\n",
       "      <td>4.4 and up</td>\n",
       "    </tr>\n",
       "    <tr>\n",
       "      <th>...</th>\n",
       "      <td>...</td>\n",
       "      <td>...</td>\n",
       "      <td>...</td>\n",
       "      <td>...</td>\n",
       "      <td>...</td>\n",
       "      <td>...</td>\n",
       "      <td>...</td>\n",
       "      <td>...</td>\n",
       "      <td>...</td>\n",
       "      <td>...</td>\n",
       "      <td>...</td>\n",
       "      <td>...</td>\n",
       "      <td>...</td>\n",
       "    </tr>\n",
       "    <tr>\n",
       "      <th>10836</th>\n",
       "      <td>Sya9a Maroc - FR</td>\n",
       "      <td>FAMILY</td>\n",
       "      <td>4.5</td>\n",
       "      <td>38</td>\n",
       "      <td>53M</td>\n",
       "      <td>5,000+</td>\n",
       "      <td>Free</td>\n",
       "      <td>0</td>\n",
       "      <td>Everyone</td>\n",
       "      <td>Education</td>\n",
       "      <td>July 25, 2017</td>\n",
       "      <td>1.48</td>\n",
       "      <td>4.1 and up</td>\n",
       "    </tr>\n",
       "    <tr>\n",
       "      <th>10837</th>\n",
       "      <td>Fr. Mike Schmitz Audio Teachings</td>\n",
       "      <td>FAMILY</td>\n",
       "      <td>5.0</td>\n",
       "      <td>4</td>\n",
       "      <td>3.6M</td>\n",
       "      <td>100+</td>\n",
       "      <td>Free</td>\n",
       "      <td>0</td>\n",
       "      <td>Everyone</td>\n",
       "      <td>Education</td>\n",
       "      <td>July 6, 2018</td>\n",
       "      <td>1.0</td>\n",
       "      <td>4.1 and up</td>\n",
       "    </tr>\n",
       "    <tr>\n",
       "      <th>10838</th>\n",
       "      <td>Parkinson Exercices FR</td>\n",
       "      <td>MEDICAL</td>\n",
       "      <td>NaN</td>\n",
       "      <td>3</td>\n",
       "      <td>9.5M</td>\n",
       "      <td>1,000+</td>\n",
       "      <td>Free</td>\n",
       "      <td>0</td>\n",
       "      <td>Everyone</td>\n",
       "      <td>Medical</td>\n",
       "      <td>January 20, 2017</td>\n",
       "      <td>1.0</td>\n",
       "      <td>2.2 and up</td>\n",
       "    </tr>\n",
       "    <tr>\n",
       "      <th>10839</th>\n",
       "      <td>The SCP Foundation DB fr nn5n</td>\n",
       "      <td>BOOKS_AND_REFERENCE</td>\n",
       "      <td>4.5</td>\n",
       "      <td>114</td>\n",
       "      <td>Varies with device</td>\n",
       "      <td>1,000+</td>\n",
       "      <td>Free</td>\n",
       "      <td>0</td>\n",
       "      <td>Mature 17+</td>\n",
       "      <td>Books &amp; Reference</td>\n",
       "      <td>January 19, 2015</td>\n",
       "      <td>Varies with device</td>\n",
       "      <td>Varies with device</td>\n",
       "    </tr>\n",
       "    <tr>\n",
       "      <th>10840</th>\n",
       "      <td>iHoroscope - 2018 Daily Horoscope &amp; Astrology</td>\n",
       "      <td>LIFESTYLE</td>\n",
       "      <td>4.5</td>\n",
       "      <td>398307</td>\n",
       "      <td>19M</td>\n",
       "      <td>10,000,000+</td>\n",
       "      <td>Free</td>\n",
       "      <td>0</td>\n",
       "      <td>Everyone</td>\n",
       "      <td>Lifestyle</td>\n",
       "      <td>July 25, 2018</td>\n",
       "      <td>Varies with device</td>\n",
       "      <td>Varies with device</td>\n",
       "    </tr>\n",
       "  </tbody>\n",
       "</table>\n",
       "<p>10841 rows × 13 columns</p>\n",
       "</div>"
      ],
      "text/plain": [
       "                                                     App             Category  \\\n",
       "0         Photo Editor & Candy Camera & Grid & ScrapBook       ART_AND_DESIGN   \n",
       "1                                    Coloring book moana       ART_AND_DESIGN   \n",
       "2      U Launcher Lite – FREE Live Cool Themes, Hide ...       ART_AND_DESIGN   \n",
       "3                                  Sketch - Draw & Paint       ART_AND_DESIGN   \n",
       "4                  Pixel Draw - Number Art Coloring Book       ART_AND_DESIGN   \n",
       "...                                                  ...                  ...   \n",
       "10836                                   Sya9a Maroc - FR               FAMILY   \n",
       "10837                   Fr. Mike Schmitz Audio Teachings               FAMILY   \n",
       "10838                             Parkinson Exercices FR              MEDICAL   \n",
       "10839                      The SCP Foundation DB fr nn5n  BOOKS_AND_REFERENCE   \n",
       "10840      iHoroscope - 2018 Daily Horoscope & Astrology            LIFESTYLE   \n",
       "\n",
       "       Rating Reviews                Size     Installs  Type Price  \\\n",
       "0         4.1     159                 19M      10,000+  Free     0   \n",
       "1         3.9     967                 14M     500,000+  Free     0   \n",
       "2         4.7   87510                8.7M   5,000,000+  Free     0   \n",
       "3         4.5  215644                 25M  50,000,000+  Free     0   \n",
       "4         4.3     967                2.8M     100,000+  Free     0   \n",
       "...       ...     ...                 ...          ...   ...   ...   \n",
       "10836     4.5      38                 53M       5,000+  Free     0   \n",
       "10837     5.0       4                3.6M         100+  Free     0   \n",
       "10838     NaN       3                9.5M       1,000+  Free     0   \n",
       "10839     4.5     114  Varies with device       1,000+  Free     0   \n",
       "10840     4.5  398307                 19M  10,000,000+  Free     0   \n",
       "\n",
       "      Content Rating                     Genres      Last Updated  \\\n",
       "0           Everyone               Art & Design   January 7, 2018   \n",
       "1           Everyone  Art & Design;Pretend Play  January 15, 2018   \n",
       "2           Everyone               Art & Design    August 1, 2018   \n",
       "3               Teen               Art & Design      June 8, 2018   \n",
       "4           Everyone    Art & Design;Creativity     June 20, 2018   \n",
       "...              ...                        ...               ...   \n",
       "10836       Everyone                  Education     July 25, 2017   \n",
       "10837       Everyone                  Education      July 6, 2018   \n",
       "10838       Everyone                    Medical  January 20, 2017   \n",
       "10839     Mature 17+          Books & Reference  January 19, 2015   \n",
       "10840       Everyone                  Lifestyle     July 25, 2018   \n",
       "\n",
       "              Current Ver         Android Ver  \n",
       "0                   1.0.0        4.0.3 and up  \n",
       "1                   2.0.0        4.0.3 and up  \n",
       "2                   1.2.4        4.0.3 and up  \n",
       "3      Varies with device          4.2 and up  \n",
       "4                     1.1          4.4 and up  \n",
       "...                   ...                 ...  \n",
       "10836                1.48          4.1 and up  \n",
       "10837                 1.0          4.1 and up  \n",
       "10838                 1.0          2.2 and up  \n",
       "10839  Varies with device  Varies with device  \n",
       "10840  Varies with device  Varies with device  \n",
       "\n",
       "[10841 rows x 13 columns]"
      ]
     },
     "execution_count": 2,
     "metadata": {},
     "output_type": "execute_result"
    }
   ],
   "source": [
    "data=pd.read_csv(\"googleplaystore.csv\")#Reading the CSV File\n",
    "data"
   ]
  },
  {
   "cell_type": "code",
   "execution_count": 3,
   "id": "27f15810",
   "metadata": {},
   "outputs": [
    {
     "data": {
      "text/plain": [
       "App                  0\n",
       "Category             0\n",
       "Rating            1474\n",
       "Reviews              0\n",
       "Size                 0\n",
       "Installs             0\n",
       "Type                 1\n",
       "Price                0\n",
       "Content Rating       1\n",
       "Genres               0\n",
       "Last Updated         0\n",
       "Current Ver          8\n",
       "Android Ver          3\n",
       "dtype: int64"
      ]
     },
     "execution_count": 3,
     "metadata": {},
     "output_type": "execute_result"
    }
   ],
   "source": [
    "data.isnull().sum() #Null Values"
   ]
  },
  {
   "cell_type": "code",
   "execution_count": 4,
   "id": "0b67502a",
   "metadata": {},
   "outputs": [],
   "source": [
    "#Fillinf  the null values from the Rating by taking the mean\n",
    "impute = SimpleImputer(missing_values = np.nan , strategy = 'mean')\n",
    "\n",
    "impute.fit(data.iloc[ : , 2:3 ].values)\n",
    "\n",
    "data.iloc[ : , 2:3 ] = impute.transform(data.iloc[ : , 2:3 ].values)  "
   ]
  },
  {
   "cell_type": "code",
   "execution_count": 5,
   "id": "a1e8c21d",
   "metadata": {},
   "outputs": [
    {
     "data": {
      "text/plain": [
       "App               0\n",
       "Category          0\n",
       "Rating            0\n",
       "Reviews           0\n",
       "Size              0\n",
       "Installs          0\n",
       "Type              1\n",
       "Price             0\n",
       "Content Rating    1\n",
       "Genres            0\n",
       "Last Updated      0\n",
       "Current Ver       8\n",
       "Android Ver       3\n",
       "dtype: int64"
      ]
     },
     "execution_count": 5,
     "metadata": {},
     "output_type": "execute_result"
    }
   ],
   "source": [
    "data.isnull().sum()"
   ]
  },
  {
   "cell_type": "code",
   "execution_count": 6,
   "id": "4d6edb2a",
   "metadata": {},
   "outputs": [],
   "source": [
    "#Fillinf  the null values from the Type,Content Rating,Current ver and Android Ver by taking the most_frequent data from the same column.\n",
    "impute = SimpleImputer(missing_values = np.nan , strategy = 'most_frequent')\n",
    "\n",
    "impute.fit(data.iloc[ : , 6: ].values)\n",
    "\n",
    "data.iloc[ : , 6: ] = impute.transform(data.iloc[ : , 6:].values)"
   ]
  },
  {
   "cell_type": "code",
   "execution_count": 7,
   "id": "ac657d0d",
   "metadata": {},
   "outputs": [
    {
     "data": {
      "text/plain": [
       "App               0\n",
       "Category          0\n",
       "Rating            0\n",
       "Reviews           0\n",
       "Size              0\n",
       "Installs          0\n",
       "Type              0\n",
       "Price             0\n",
       "Content Rating    0\n",
       "Genres            0\n",
       "Last Updated      0\n",
       "Current Ver       0\n",
       "Android Ver       0\n",
       "dtype: int64"
      ]
     },
     "execution_count": 7,
     "metadata": {},
     "output_type": "execute_result"
    }
   ],
   "source": [
    "# As you see we successfully Fill thw alll Null Values.\n",
    "data.isnull().sum()\n"
   ]
  },
  {
   "cell_type": "code",
   "execution_count": 8,
   "id": "79f467db",
   "metadata": {},
   "outputs": [
    {
     "data": {
      "text/html": [
       "<div>\n",
       "<style scoped>\n",
       "    .dataframe tbody tr th:only-of-type {\n",
       "        vertical-align: middle;\n",
       "    }\n",
       "\n",
       "    .dataframe tbody tr th {\n",
       "        vertical-align: top;\n",
       "    }\n",
       "\n",
       "    .dataframe thead th {\n",
       "        text-align: right;\n",
       "    }\n",
       "</style>\n",
       "<table border=\"1\" class=\"dataframe\">\n",
       "  <thead>\n",
       "    <tr style=\"text-align: right;\">\n",
       "      <th></th>\n",
       "      <th>App</th>\n",
       "      <th>Category</th>\n",
       "      <th>Rating</th>\n",
       "      <th>Reviews</th>\n",
       "      <th>Size</th>\n",
       "      <th>Installs</th>\n",
       "      <th>Type</th>\n",
       "      <th>Price</th>\n",
       "      <th>Content Rating</th>\n",
       "      <th>Genres</th>\n",
       "      <th>Last Updated</th>\n",
       "      <th>Current Ver</th>\n",
       "      <th>Android Ver</th>\n",
       "    </tr>\n",
       "  </thead>\n",
       "  <tbody>\n",
       "    <tr>\n",
       "      <th>0</th>\n",
       "      <td>Photo Editor &amp; Candy Camera &amp; Grid &amp; ScrapBook</td>\n",
       "      <td>ART_AND_DESIGN</td>\n",
       "      <td>4.1</td>\n",
       "      <td>159</td>\n",
       "      <td>19M</td>\n",
       "      <td>10,000+</td>\n",
       "      <td>Free</td>\n",
       "      <td>0</td>\n",
       "      <td>Everyone</td>\n",
       "      <td>Art &amp; Design</td>\n",
       "      <td>January 7, 2018</td>\n",
       "      <td>1.0.0</td>\n",
       "      <td>4.0.3 and up</td>\n",
       "    </tr>\n",
       "    <tr>\n",
       "      <th>1</th>\n",
       "      <td>Coloring book moana</td>\n",
       "      <td>ART_AND_DESIGN</td>\n",
       "      <td>3.9</td>\n",
       "      <td>967</td>\n",
       "      <td>14M</td>\n",
       "      <td>500,000+</td>\n",
       "      <td>Free</td>\n",
       "      <td>0</td>\n",
       "      <td>Everyone</td>\n",
       "      <td>Art &amp; Design;Pretend Play</td>\n",
       "      <td>January 15, 2018</td>\n",
       "      <td>2.0.0</td>\n",
       "      <td>4.0.3 and up</td>\n",
       "    </tr>\n",
       "    <tr>\n",
       "      <th>2</th>\n",
       "      <td>U Launcher Lite – FREE Live Cool Themes, Hide ...</td>\n",
       "      <td>ART_AND_DESIGN</td>\n",
       "      <td>4.7</td>\n",
       "      <td>87510</td>\n",
       "      <td>8.7M</td>\n",
       "      <td>5,000,000+</td>\n",
       "      <td>Free</td>\n",
       "      <td>0</td>\n",
       "      <td>Everyone</td>\n",
       "      <td>Art &amp; Design</td>\n",
       "      <td>August 1, 2018</td>\n",
       "      <td>1.2.4</td>\n",
       "      <td>4.0.3 and up</td>\n",
       "    </tr>\n",
       "    <tr>\n",
       "      <th>3</th>\n",
       "      <td>Sketch - Draw &amp; Paint</td>\n",
       "      <td>ART_AND_DESIGN</td>\n",
       "      <td>4.5</td>\n",
       "      <td>215644</td>\n",
       "      <td>25M</td>\n",
       "      <td>50,000,000+</td>\n",
       "      <td>Free</td>\n",
       "      <td>0</td>\n",
       "      <td>Teen</td>\n",
       "      <td>Art &amp; Design</td>\n",
       "      <td>June 8, 2018</td>\n",
       "      <td>Varies with device</td>\n",
       "      <td>4.2 and up</td>\n",
       "    </tr>\n",
       "    <tr>\n",
       "      <th>4</th>\n",
       "      <td>Pixel Draw - Number Art Coloring Book</td>\n",
       "      <td>ART_AND_DESIGN</td>\n",
       "      <td>4.3</td>\n",
       "      <td>967</td>\n",
       "      <td>2.8M</td>\n",
       "      <td>100,000+</td>\n",
       "      <td>Free</td>\n",
       "      <td>0</td>\n",
       "      <td>Everyone</td>\n",
       "      <td>Art &amp; Design;Creativity</td>\n",
       "      <td>June 20, 2018</td>\n",
       "      <td>1.1</td>\n",
       "      <td>4.4 and up</td>\n",
       "    </tr>\n",
       "    <tr>\n",
       "      <th>5</th>\n",
       "      <td>Paper flowers instructions</td>\n",
       "      <td>ART_AND_DESIGN</td>\n",
       "      <td>4.4</td>\n",
       "      <td>167</td>\n",
       "      <td>5.6M</td>\n",
       "      <td>50,000+</td>\n",
       "      <td>Free</td>\n",
       "      <td>0</td>\n",
       "      <td>Everyone</td>\n",
       "      <td>Art &amp; Design</td>\n",
       "      <td>March 26, 2017</td>\n",
       "      <td>1.0</td>\n",
       "      <td>2.3 and up</td>\n",
       "    </tr>\n",
       "    <tr>\n",
       "      <th>6</th>\n",
       "      <td>Smoke Effect Photo Maker - Smoke Editor</td>\n",
       "      <td>ART_AND_DESIGN</td>\n",
       "      <td>3.8</td>\n",
       "      <td>178</td>\n",
       "      <td>19M</td>\n",
       "      <td>50,000+</td>\n",
       "      <td>Free</td>\n",
       "      <td>0</td>\n",
       "      <td>Everyone</td>\n",
       "      <td>Art &amp; Design</td>\n",
       "      <td>April 26, 2018</td>\n",
       "      <td>1.1</td>\n",
       "      <td>4.0.3 and up</td>\n",
       "    </tr>\n",
       "    <tr>\n",
       "      <th>7</th>\n",
       "      <td>Infinite Painter</td>\n",
       "      <td>ART_AND_DESIGN</td>\n",
       "      <td>4.1</td>\n",
       "      <td>36815</td>\n",
       "      <td>29M</td>\n",
       "      <td>1,000,000+</td>\n",
       "      <td>Free</td>\n",
       "      <td>0</td>\n",
       "      <td>Everyone</td>\n",
       "      <td>Art &amp; Design</td>\n",
       "      <td>June 14, 2018</td>\n",
       "      <td>6.1.61.1</td>\n",
       "      <td>4.2 and up</td>\n",
       "    </tr>\n",
       "    <tr>\n",
       "      <th>8</th>\n",
       "      <td>Garden Coloring Book</td>\n",
       "      <td>ART_AND_DESIGN</td>\n",
       "      <td>4.4</td>\n",
       "      <td>13791</td>\n",
       "      <td>33M</td>\n",
       "      <td>1,000,000+</td>\n",
       "      <td>Free</td>\n",
       "      <td>0</td>\n",
       "      <td>Everyone</td>\n",
       "      <td>Art &amp; Design</td>\n",
       "      <td>September 20, 2017</td>\n",
       "      <td>2.9.2</td>\n",
       "      <td>3.0 and up</td>\n",
       "    </tr>\n",
       "    <tr>\n",
       "      <th>9</th>\n",
       "      <td>Kids Paint Free - Drawing Fun</td>\n",
       "      <td>ART_AND_DESIGN</td>\n",
       "      <td>4.7</td>\n",
       "      <td>121</td>\n",
       "      <td>3.1M</td>\n",
       "      <td>10,000+</td>\n",
       "      <td>Free</td>\n",
       "      <td>0</td>\n",
       "      <td>Everyone</td>\n",
       "      <td>Art &amp; Design;Creativity</td>\n",
       "      <td>July 3, 2018</td>\n",
       "      <td>2.8</td>\n",
       "      <td>4.0.3 and up</td>\n",
       "    </tr>\n",
       "  </tbody>\n",
       "</table>\n",
       "</div>"
      ],
      "text/plain": [
       "                                                 App        Category  Rating  \\\n",
       "0     Photo Editor & Candy Camera & Grid & ScrapBook  ART_AND_DESIGN     4.1   \n",
       "1                                Coloring book moana  ART_AND_DESIGN     3.9   \n",
       "2  U Launcher Lite – FREE Live Cool Themes, Hide ...  ART_AND_DESIGN     4.7   \n",
       "3                              Sketch - Draw & Paint  ART_AND_DESIGN     4.5   \n",
       "4              Pixel Draw - Number Art Coloring Book  ART_AND_DESIGN     4.3   \n",
       "5                         Paper flowers instructions  ART_AND_DESIGN     4.4   \n",
       "6            Smoke Effect Photo Maker - Smoke Editor  ART_AND_DESIGN     3.8   \n",
       "7                                   Infinite Painter  ART_AND_DESIGN     4.1   \n",
       "8                               Garden Coloring Book  ART_AND_DESIGN     4.4   \n",
       "9                      Kids Paint Free - Drawing Fun  ART_AND_DESIGN     4.7   \n",
       "\n",
       "  Reviews  Size     Installs  Type Price Content Rating  \\\n",
       "0     159   19M      10,000+  Free     0       Everyone   \n",
       "1     967   14M     500,000+  Free     0       Everyone   \n",
       "2   87510  8.7M   5,000,000+  Free     0       Everyone   \n",
       "3  215644   25M  50,000,000+  Free     0           Teen   \n",
       "4     967  2.8M     100,000+  Free     0       Everyone   \n",
       "5     167  5.6M      50,000+  Free     0       Everyone   \n",
       "6     178   19M      50,000+  Free     0       Everyone   \n",
       "7   36815   29M   1,000,000+  Free     0       Everyone   \n",
       "8   13791   33M   1,000,000+  Free     0       Everyone   \n",
       "9     121  3.1M      10,000+  Free     0       Everyone   \n",
       "\n",
       "                      Genres        Last Updated         Current Ver  \\\n",
       "0               Art & Design     January 7, 2018               1.0.0   \n",
       "1  Art & Design;Pretend Play    January 15, 2018               2.0.0   \n",
       "2               Art & Design      August 1, 2018               1.2.4   \n",
       "3               Art & Design        June 8, 2018  Varies with device   \n",
       "4    Art & Design;Creativity       June 20, 2018                 1.1   \n",
       "5               Art & Design      March 26, 2017                 1.0   \n",
       "6               Art & Design      April 26, 2018                 1.1   \n",
       "7               Art & Design       June 14, 2018            6.1.61.1   \n",
       "8               Art & Design  September 20, 2017               2.9.2   \n",
       "9    Art & Design;Creativity        July 3, 2018                 2.8   \n",
       "\n",
       "    Android Ver  \n",
       "0  4.0.3 and up  \n",
       "1  4.0.3 and up  \n",
       "2  4.0.3 and up  \n",
       "3    4.2 and up  \n",
       "4    4.4 and up  \n",
       "5    2.3 and up  \n",
       "6  4.0.3 and up  \n",
       "7    4.2 and up  \n",
       "8    3.0 and up  \n",
       "9  4.0.3 and up  "
      ]
     },
     "execution_count": 8,
     "metadata": {},
     "output_type": "execute_result"
    }
   ],
   "source": [
    "data.head(10)"
   ]
  },
  {
   "cell_type": "code",
   "execution_count": 9,
   "id": "d4637778",
   "metadata": {},
   "outputs": [
    {
     "data": {
      "text/html": [
       "<div>\n",
       "<style scoped>\n",
       "    .dataframe tbody tr th:only-of-type {\n",
       "        vertical-align: middle;\n",
       "    }\n",
       "\n",
       "    .dataframe tbody tr th {\n",
       "        vertical-align: top;\n",
       "    }\n",
       "\n",
       "    .dataframe thead th {\n",
       "        text-align: right;\n",
       "    }\n",
       "</style>\n",
       "<table border=\"1\" class=\"dataframe\">\n",
       "  <thead>\n",
       "    <tr style=\"text-align: right;\">\n",
       "      <th></th>\n",
       "      <th>Rating</th>\n",
       "    </tr>\n",
       "  </thead>\n",
       "  <tbody>\n",
       "    <tr>\n",
       "      <th>count</th>\n",
       "      <td>10841.000000</td>\n",
       "    </tr>\n",
       "    <tr>\n",
       "      <th>mean</th>\n",
       "      <td>4.193338</td>\n",
       "    </tr>\n",
       "    <tr>\n",
       "      <th>std</th>\n",
       "      <td>0.499557</td>\n",
       "    </tr>\n",
       "    <tr>\n",
       "      <th>min</th>\n",
       "      <td>1.000000</td>\n",
       "    </tr>\n",
       "    <tr>\n",
       "      <th>25%</th>\n",
       "      <td>4.100000</td>\n",
       "    </tr>\n",
       "    <tr>\n",
       "      <th>50%</th>\n",
       "      <td>4.200000</td>\n",
       "    </tr>\n",
       "    <tr>\n",
       "      <th>75%</th>\n",
       "      <td>4.500000</td>\n",
       "    </tr>\n",
       "    <tr>\n",
       "      <th>max</th>\n",
       "      <td>19.000000</td>\n",
       "    </tr>\n",
       "  </tbody>\n",
       "</table>\n",
       "</div>"
      ],
      "text/plain": [
       "             Rating\n",
       "count  10841.000000\n",
       "mean       4.193338\n",
       "std        0.499557\n",
       "min        1.000000\n",
       "25%        4.100000\n",
       "50%        4.200000\n",
       "75%        4.500000\n",
       "max       19.000000"
      ]
     },
     "execution_count": 9,
     "metadata": {},
     "output_type": "execute_result"
    }
   ],
   "source": [
    "data.describe()"
   ]
  },
  {
   "cell_type": "code",
   "execution_count": 10,
   "id": "37b4242f",
   "metadata": {},
   "outputs": [
    {
     "data": {
      "text/plain": [
       "Index(['App', 'Category', 'Rating', 'Reviews', 'Size', 'Installs', 'Type',\n",
       "       'Price', 'Content Rating', 'Genres', 'Last Updated', 'Current Ver',\n",
       "       'Android Ver'],\n",
       "      dtype='object')"
      ]
     },
     "execution_count": 10,
     "metadata": {},
     "output_type": "execute_result"
    }
   ],
   "source": [
    "data.columns"
   ]
  },
  {
   "cell_type": "markdown",
   "id": "c90f96b0",
   "metadata": {},
   "source": [
    "# Q1->Find  the Average Rating of the Applications?"
   ]
  },
  {
   "cell_type": "code",
   "execution_count": 11,
   "id": "c172d835",
   "metadata": {},
   "outputs": [
    {
     "name": "stdout",
     "output_type": "stream",
     "text": [
      "App\n",
      "Category\n",
      "Rating\n",
      "Reviews\n",
      "Size\n",
      "Installs\n",
      "Type\n",
      "Price\n",
      "Content Rating\n",
      "Genres\n",
      "Last Updated\n",
      "Current Ver\n",
      "Android Ver\n",
      "We can see that there are total : 13  Columns(Feature)!\n"
     ]
    }
   ],
   "source": [
    "#Print all the Features of the Dataset\n",
    "c=0\n",
    "for i in data.columns:\n",
    "    print(i)\n",
    "    c=c+1\n",
    "print(\"We can see that there are total :\",c,\" Columns(Feature)!\")"
   ]
  },
  {
   "cell_type": "code",
   "execution_count": 12,
   "id": "9b3df92d",
   "metadata": {},
   "outputs": [
    {
     "name": "stdout",
     "output_type": "stream",
     "text": [
      "Total Number of Rating : 10841\n"
     ]
    }
   ],
   "source": [
    "r=0\n",
    "for i in data['Rating']:\n",
    "    r=r+1\n",
    "\n",
    "print(\"Total Number of Rating :\",r)"
   ]
  },
  {
   "cell_type": "code",
   "execution_count": 13,
   "id": "4ecfc639",
   "metadata": {},
   "outputs": [
    {
     "name": "stdout",
     "output_type": "stream",
     "text": [
      "Average Rating of the Apps :  4.19\n"
     ]
    }
   ],
   "source": [
    "print(\"Average Rating of the Apps : \",float(str(int(sum(data['Rating']))/len(data['Rating']))[:4]))"
   ]
  },
  {
   "cell_type": "markdown",
   "id": "9cd73164",
   "metadata": {},
   "source": [
    "# Q2->Applications which has Exactly 4 Rating? "
   ]
  },
  {
   "cell_type": "code",
   "execution_count": 14,
   "id": "d246933a",
   "metadata": {},
   "outputs": [
    {
     "name": "stdout",
     "output_type": "stream",
     "text": [
      "There are total: 568 Apps whose rating is Exactly 4\n"
     ]
    }
   ],
   "source": [
    "r=0\n",
    "for i in data[\"Rating\"]:\n",
    "    if(i == 4):\n",
    "        r=r+1\n",
    "print(\"There are total:\",r,\"Apps whose rating is Exactly 4\")"
   ]
  },
  {
   "cell_type": "markdown",
   "id": "81f74359",
   "metadata": {},
   "source": [
    "# Q3->Applications which has Exactly Rating between 4 and 4.5 ? "
   ]
  },
  {
   "cell_type": "code",
   "execution_count": 15,
   "id": "e0fc204f",
   "metadata": {},
   "outputs": [
    {
     "name": "stdout",
     "output_type": "stream",
     "text": [
      "There are total: 6925 Apps whose rating is between 4 and 4.5\n"
     ]
    }
   ],
   "source": [
    "r=0\n",
    "for i in data[\"Rating\"]:\n",
    "    if(i>=4 and i<=4.5):\n",
    "        r=r+1\n",
    "print(\"There are total:\",r,\"Apps whose rating is between 4 and 4.5\")"
   ]
  },
  {
   "cell_type": "markdown",
   "id": "ff98efe8",
   "metadata": {},
   "source": [
    "# Q4-> Total Number of Application In the Dataset?"
   ]
  },
  {
   "cell_type": "code",
   "execution_count": 16,
   "id": "eab96a06",
   "metadata": {},
   "outputs": [
    {
     "name": "stdout",
     "output_type": "stream",
     "text": [
      "There are total : 9660 Application in PlayStore\n"
     ]
    }
   ],
   "source": [
    "a=0\n",
    "for i in data[\"App\"].unique():\n",
    "    a=a+1\n",
    "print(\"There are total :\",a,\"Application in PlayStore\")"
   ]
  },
  {
   "cell_type": "markdown",
   "id": "3d789d3d",
   "metadata": {},
   "source": [
    "# Q5->Total number of Category in the Dataset?"
   ]
  },
  {
   "cell_type": "code",
   "execution_count": 17,
   "id": "364783ad",
   "metadata": {},
   "outputs": [
    {
     "data": {
      "text/plain": [
       "array(['ART_AND_DESIGN', 'AUTO_AND_VEHICLES', 'BEAUTY',\n",
       "       'BOOKS_AND_REFERENCE', 'BUSINESS', 'COMICS', 'COMMUNICATION',\n",
       "       'DATING', 'EDUCATION', 'ENTERTAINMENT', 'EVENTS', 'FINANCE',\n",
       "       'FOOD_AND_DRINK', 'HEALTH_AND_FITNESS', 'HOUSE_AND_HOME',\n",
       "       'LIBRARIES_AND_DEMO', 'LIFESTYLE', 'GAME', 'FAMILY', 'MEDICAL',\n",
       "       'SOCIAL', 'SHOPPING', 'PHOTOGRAPHY', 'SPORTS', 'TRAVEL_AND_LOCAL',\n",
       "       'TOOLS', 'PERSONALIZATION', 'PRODUCTIVITY', 'PARENTING', 'WEATHER',\n",
       "       'VIDEO_PLAYERS', 'NEWS_AND_MAGAZINES', 'MAPS_AND_NAVIGATION',\n",
       "       '1.9'], dtype=object)"
      ]
     },
     "execution_count": 17,
     "metadata": {},
     "output_type": "execute_result"
    }
   ],
   "source": [
    "data[\"Category\"].unique()"
   ]
  },
  {
   "cell_type": "markdown",
   "id": "a178fe6c",
   "metadata": {},
   "source": [
    "# Q6->Total number of Category in the Dataset with their Frequency?"
   ]
  },
  {
   "cell_type": "code",
   "execution_count": 18,
   "id": "556f5a61",
   "metadata": {},
   "outputs": [
    {
     "name": "stdout",
     "output_type": "stream",
     "text": [
      "ART_AND_DESIGN : 1\n",
      "AUTO_AND_VEHICLES : 2\n",
      "BEAUTY : 3\n",
      "BOOKS_AND_REFERENCE : 4\n",
      "BUSINESS : 5\n",
      "COMICS : 6\n",
      "COMMUNICATION : 7\n",
      "DATING : 8\n",
      "EDUCATION : 9\n",
      "ENTERTAINMENT : 10\n",
      "EVENTS : 11\n",
      "FINANCE : 12\n",
      "FOOD_AND_DRINK : 13\n",
      "HEALTH_AND_FITNESS : 14\n",
      "HOUSE_AND_HOME : 15\n",
      "LIBRARIES_AND_DEMO : 16\n",
      "LIFESTYLE : 17\n",
      "GAME : 18\n",
      "FAMILY : 19\n",
      "MEDICAL : 20\n",
      "SOCIAL : 21\n",
      "SHOPPING : 22\n",
      "PHOTOGRAPHY : 23\n",
      "SPORTS : 24\n",
      "TRAVEL_AND_LOCAL : 25\n",
      "TOOLS : 26\n",
      "PERSONALIZATION : 27\n",
      "PRODUCTIVITY : 28\n",
      "PARENTING : 29\n",
      "WEATHER : 30\n",
      "VIDEO_PLAYERS : 31\n",
      "NEWS_AND_MAGAZINES : 32\n",
      "MAPS_AND_NAVIGATION : 33\n",
      "1.9 : 34\n"
     ]
    }
   ],
   "source": [
    "c=0\n",
    "for i in data[\"Category\"].unique():\n",
    "    c=c+1\n",
    "    print(i,\":\",c)"
   ]
  },
  {
   "cell_type": "code",
   "execution_count": 19,
   "id": "6c82fa76",
   "metadata": {},
   "outputs": [
    {
     "name": "stdout",
     "output_type": "stream",
     "text": [
      "There are total : 34 of Application in PlayStore!\n"
     ]
    }
   ],
   "source": [
    "print(\"There are total :\", len(data[\"Category\"].unique()),\"of Application in PlayStore!\")"
   ]
  },
  {
   "cell_type": "markdown",
   "id": "551a01d0",
   "metadata": {},
   "source": [
    "# Q7->What is Total number of Auto and design application  in the Dataset?"
   ]
  },
  {
   "cell_type": "code",
   "execution_count": 20,
   "id": "0b8869ba",
   "metadata": {},
   "outputs": [
    {
     "name": "stdout",
     "output_type": "stream",
     "text": [
      "Total Application which has AUTO_AND_VEHICLES are :  85\n"
     ]
    }
   ],
   "source": [
    "ck=0\n",
    "for i in data[\"Category\"]:\n",
    "    if (i==\"AUTO_AND_VEHICLES\"):\n",
    "        ck+=1\n",
    "print(\"Total Application which has AUTO_AND_VEHICLES are : \",ck)"
   ]
  },
  {
   "cell_type": "code",
   "execution_count": 21,
   "id": "795ae84d",
   "metadata": {},
   "outputs": [
    {
     "name": "stdout",
     "output_type": "stream",
     "text": [
      "There are total 65 application in ART_AND_DESIGN\n"
     ]
    }
   ],
   "source": [
    "c = 0\n",
    "for i in data['Category']:\n",
    "    if(i == 'ART_AND_DESIGN'):\n",
    "        c += 1\n",
    "print(\"There are total\",c,'application in ART_AND_DESIGN')"
   ]
  },
  {
   "cell_type": "markdown",
   "id": "981ae8be",
   "metadata": {},
   "source": [
    "# Q8->How many types of application in the playstore?"
   ]
  },
  {
   "cell_type": "code",
   "execution_count": 22,
   "id": "30c95cf5",
   "metadata": {},
   "outputs": [
    {
     "name": "stdout",
     "output_type": "stream",
     "text": [
      "10841\n"
     ]
    }
   ],
   "source": [
    "t=0\n",
    "for i in data[\"Type\"]:\n",
    "    t=t+1\n",
    "print(t)"
   ]
  },
  {
   "cell_type": "code",
   "execution_count": 23,
   "id": "91f61e16",
   "metadata": {},
   "outputs": [
    {
     "data": {
      "text/plain": [
       "array(['Free', 'Paid', '0'], dtype=object)"
      ]
     },
     "execution_count": 23,
     "metadata": {},
     "output_type": "execute_result"
    }
   ],
   "source": [
    "data[\"Type\"].unique()"
   ]
  },
  {
   "cell_type": "code",
   "execution_count": 24,
   "id": "a62ff919",
   "metadata": {},
   "outputs": [
    {
     "data": {
      "text/plain": [
       "3"
      ]
     },
     "execution_count": 24,
     "metadata": {},
     "output_type": "execute_result"
    }
   ],
   "source": [
    "len(data[\"Type\"].unique())"
   ]
  },
  {
   "cell_type": "markdown",
   "id": "21474f10",
   "metadata": {},
   "source": [
    "# Q8->How many free apps are there in the dataset with their percentage?"
   ]
  },
  {
   "cell_type": "code",
   "execution_count": 25,
   "id": "eb95e687",
   "metadata": {},
   "outputs": [
    {
     "name": "stdout",
     "output_type": "stream",
     "text": [
      "Free Application : 10040\n"
     ]
    }
   ],
   "source": [
    "f=0\n",
    "for i in data[\"Type\"]:\n",
    "    if (i=='Free'):\n",
    "        f+=1\n",
    "print(\"Free Application :\",f)"
   ]
  },
  {
   "cell_type": "code",
   "execution_count": 26,
   "id": "6fd008f7",
   "metadata": {},
   "outputs": [
    {
     "name": "stdout",
     "output_type": "stream",
     "text": [
      "Paid Application : 800\n"
     ]
    }
   ],
   "source": [
    "p=0\n",
    "for i in data[\"Type\"]:\n",
    "    if (i=='Paid'):\n",
    "        p+=1\n",
    "print(\"Paid Application :\",p)"
   ]
  },
  {
   "cell_type": "code",
   "execution_count": 27,
   "id": "e82571b8",
   "metadata": {},
   "outputs": [
    {
     "name": "stdout",
     "output_type": "stream",
     "text": [
      "92 % applications are free\n"
     ]
    }
   ],
   "source": [
    "print(int(f /(f + p)*100),\"% applications are free\")"
   ]
  },
  {
   "cell_type": "markdown",
   "id": "d6d6f82b",
   "metadata": {},
   "source": [
    "# Q9->What is the devision of Age group of the Application?"
   ]
  },
  {
   "cell_type": "code",
   "execution_count": 28,
   "id": "283adc13",
   "metadata": {},
   "outputs": [
    {
     "name": "stdout",
     "output_type": "stream",
     "text": [
      "Everyone\n",
      "Teen\n",
      "Everyone 10+\n",
      "Mature 17+\n",
      "Adults only 18+\n",
      "Unrated\n"
     ]
    }
   ],
   "source": [
    "for i in data[\"Content Rating\"].unique():\n",
    "    print(i)"
   ]
  },
  {
   "cell_type": "code",
   "execution_count": 29,
   "id": "be4f2e4a",
   "metadata": {},
   "outputs": [
    {
     "name": "stdout",
     "output_type": "stream",
     "text": [
      "{'ART_AND_DESIGN': 65, 'AUTO_AND_VEHICLES': 85, 'BEAUTY': 53, 'BOOKS_AND_REFERENCE': 231, 'BUSINESS': 460, 'COMICS': 60, 'COMMUNICATION': 387, 'DATING': 234, 'EDUCATION': 156, 'ENTERTAINMENT': 149, 'EVENTS': 64, 'FINANCE': 366, 'FOOD_AND_DRINK': 127, 'HEALTH_AND_FITNESS': 341, 'HOUSE_AND_HOME': 88, 'LIBRARIES_AND_DEMO': 85, 'LIFESTYLE': 382, 'GAME': 1144, 'FAMILY': 1972, 'MEDICAL': 463, 'SOCIAL': 295, 'SHOPPING': 260, 'PHOTOGRAPHY': 335, 'SPORTS': 384, 'TRAVEL_AND_LOCAL': 258, 'TOOLS': 843, 'PERSONALIZATION': 392, 'PRODUCTIVITY': 424, 'PARENTING': 60, 'WEATHER': 82, 'VIDEO_PLAYERS': 175, 'NEWS_AND_MAGAZINES': 283, 'MAPS_AND_NAVIGATION': 137, '1.9': 1}\n"
     ]
    }
   ],
   "source": [
    "category={}\n",
    "for name in data[\"Category\"].unique():\n",
    "    c=0\n",
    "    for i in data[\"Category\"]:\n",
    "        if (i== name):\n",
    "            c=c+1\n",
    "    category[name]=c\n",
    "\n",
    "print(category)"
   ]
  },
  {
   "cell_type": "code",
   "execution_count": 30,
   "id": "bb76aa4d",
   "metadata": {},
   "outputs": [
    {
     "name": "stdout",
     "output_type": "stream",
     "text": [
      "Free\n",
      "Paid\n",
      "0\n"
     ]
    }
   ],
   "source": [
    "for name in data[\"Type\"].unique():\n",
    "    n=0\n",
    "    for i in data[\"Type\"]:\n",
    "        if (i==name):\n",
    "            n=n+1\n",
    "    print(name)"
   ]
  },
  {
   "cell_type": "markdown",
   "id": "4741654a",
   "metadata": {},
   "source": [
    "# Q10->What is the Gerne of the Applications with their frequency ?"
   ]
  },
  {
   "cell_type": "code",
   "execution_count": 31,
   "id": "08efb224",
   "metadata": {},
   "outputs": [
    {
     "name": "stdout",
     "output_type": "stream",
     "text": [
      "Art & Design : 58\n",
      "Art & Design;Pretend Play : 2\n",
      "Art & Design;Creativity : 7\n",
      "Art & Design;Action & Adventure : 2\n",
      "Auto & Vehicles : 85\n",
      "Beauty : 53\n",
      "Books & Reference : 231\n",
      "Business : 460\n",
      "Comics : 59\n",
      "Comics;Creativity : 1\n",
      "Communication : 387\n",
      "Dating : 234\n",
      "Education;Education : 50\n",
      "Education : 549\n",
      "Education;Creativity : 7\n",
      "Education;Music & Video : 5\n",
      "Education;Action & Adventure : 6\n",
      "Education;Pretend Play : 23\n",
      "Education;Brain Games : 5\n",
      "Entertainment : 623\n",
      "Entertainment;Music & Video : 27\n",
      "Entertainment;Brain Games : 8\n",
      "Entertainment;Creativity : 3\n",
      "Events : 64\n",
      "Finance : 366\n",
      "Food & Drink : 127\n",
      "Health & Fitness : 341\n",
      "House & Home : 88\n",
      "Libraries & Demo : 85\n",
      "Lifestyle : 381\n",
      "Lifestyle;Pretend Play : 1\n",
      "Adventure;Action & Adventure : 13\n",
      "Arcade : 220\n",
      "Casual : 193\n",
      "Card : 48\n",
      "Casual;Pretend Play : 31\n",
      "Action : 365\n",
      "Strategy : 107\n",
      "Puzzle : 140\n",
      "Sports : 398\n",
      "Music : 22\n",
      "Word : 29\n",
      "Racing : 98\n",
      "Casual;Creativity : 7\n",
      "Casual;Action & Adventure : 21\n",
      "Simulation : 200\n",
      "Adventure : 75\n",
      "Board : 44\n",
      "Trivia : 38\n",
      "Role Playing : 109\n",
      "Simulation;Education : 3\n",
      "Action;Action & Adventure : 17\n",
      "Casual;Brain Games : 13\n",
      "Simulation;Action & Adventure : 11\n",
      "Educational;Creativity : 5\n",
      "Puzzle;Brain Games : 19\n",
      "Educational;Education : 41\n",
      "Card;Brain Games : 1\n",
      "Educational;Brain Games : 6\n",
      "Educational;Pretend Play : 19\n",
      "Entertainment;Education : 1\n",
      "Casual;Education : 3\n",
      "Music;Music & Video : 3\n",
      "Racing;Action & Adventure : 20\n",
      "Arcade;Pretend Play : 1\n",
      "Role Playing;Action & Adventure : 7\n",
      "Simulation;Pretend Play : 4\n",
      "Puzzle;Creativity : 2\n",
      "Sports;Action & Adventure : 4\n",
      "Educational;Action & Adventure : 4\n",
      "Arcade;Action & Adventure : 16\n",
      "Entertainment;Action & Adventure : 3\n",
      "Puzzle;Action & Adventure : 5\n",
      "Strategy;Action & Adventure : 2\n",
      "Music & Audio;Music & Video : 1\n",
      "Health & Fitness;Education : 1\n",
      "Adventure;Education : 2\n",
      "Board;Brain Games : 15\n",
      "Board;Action & Adventure : 3\n",
      "Board;Pretend Play : 1\n",
      "Casual;Music & Video : 2\n",
      "Role Playing;Pretend Play : 5\n",
      "Entertainment;Pretend Play : 2\n",
      "Video Players & Editors;Creativity : 2\n",
      "Card;Action & Adventure : 2\n",
      "Medical : 463\n",
      "Social : 295\n",
      "Shopping : 260\n",
      "Photography : 335\n",
      "Travel & Local : 257\n",
      "Travel & Local;Action & Adventure : 1\n",
      "Tools : 842\n",
      "Tools;Education : 1\n",
      "Personalization : 392\n",
      "Productivity : 424\n",
      "Parenting : 46\n",
      "Parenting;Music & Video : 6\n",
      "Parenting;Education : 7\n",
      "Parenting;Brain Games : 1\n",
      "Weather : 82\n",
      "Video Players & Editors : 173\n",
      "Video Players & Editors;Music & Video : 3\n",
      "News & Magazines : 283\n",
      "Maps & Navigation : 137\n",
      "Health & Fitness;Action & Adventure : 1\n",
      "Educational : 37\n",
      "Casino : 39\n",
      "Adventure;Brain Games : 1\n",
      "Trivia;Education : 1\n",
      "Lifestyle;Education : 1\n",
      "Books & Reference;Creativity : 1\n",
      "Books & Reference;Education : 2\n",
      "Puzzle;Education : 1\n",
      "Role Playing;Education : 1\n",
      "Role Playing;Brain Games : 1\n",
      "Strategy;Education : 1\n",
      "Racing;Pretend Play : 1\n",
      "Communication;Creativity : 1\n",
      "February 11, 2018 : 1\n",
      "Strategy;Creativity : 1\n"
     ]
    }
   ],
   "source": [
    "for name in data[\"Genres\"].unique():\n",
    "    n=0\n",
    "    for i in data[\"Genres\"]:\n",
    "        if (i==name):\n",
    "            n=n+1\n",
    "    print(name,\":\",n)"
   ]
  },
  {
   "cell_type": "markdown",
   "id": "3482ca9b",
   "metadata": {},
   "source": [
    "# Q11->Arrange the app According Rating and to their Frequency ?"
   ]
  },
  {
   "cell_type": "code",
   "execution_count": 32,
   "id": "b3fa13bc",
   "metadata": {},
   "outputs": [
    {
     "name": "stdout",
     "output_type": "stream",
     "text": [
      "4.1 : 708\n",
      "3.9 : 386\n",
      "4.7 : 499\n",
      "4.5 : 1038\n",
      "4.3 : 1076\n",
      "4.4 : 1109\n",
      "3.8 : 303\n",
      "4.2 : 952\n",
      "4.6 : 823\n",
      "3.2 : 64\n",
      "4.0 : 568\n",
      "4.193338315362443 : 1474\n",
      "4.8 : 234\n",
      "4.9 : 87\n",
      "3.6 : 174\n",
      "3.7 : 239\n",
      "3.3 : 102\n",
      "3.4 : 128\n",
      "3.5 : 163\n",
      "3.1 : 69\n",
      "5.0 : 274\n",
      "2.6 : 25\n",
      "3.0 : 83\n",
      "1.9 : 13\n",
      "2.5 : 21\n",
      "2.8 : 42\n",
      "2.7 : 25\n",
      "1.0 : 16\n",
      "2.9 : 45\n",
      "2.3 : 20\n",
      "2.2 : 14\n",
      "1.7 : 8\n",
      "2.0 : 12\n",
      "1.8 : 8\n",
      "2.4 : 19\n",
      "1.6 : 4\n",
      "2.1 : 8\n",
      "1.4 : 3\n",
      "1.5 : 3\n",
      "1.2 : 1\n",
      "19.0 : 1\n"
     ]
    }
   ],
   "source": [
    "for name in data[\"Rating\"].unique():\n",
    "    n=0\n",
    "    for i in data[\"Rating\"]:\n",
    "        if (i==name):\n",
    "            n=n+1\n",
    "    print(name,\":\",n)"
   ]
  },
  {
   "cell_type": "code",
   "execution_count": 33,
   "id": "d6ee1f69",
   "metadata": {},
   "outputs": [
    {
     "name": "stdout",
     "output_type": "stream",
     "text": [
      "3\n"
     ]
    }
   ],
   "source": [
    "r=0\n",
    "for i in data[\"Rating\"]:\n",
    "    if (i==1.5):\n",
    "        r=r+1\n",
    "print(r)"
   ]
  },
  {
   "cell_type": "code",
   "execution_count": 34,
   "id": "d3e9a608",
   "metadata": {},
   "outputs": [
    {
     "name": "stdout",
     "output_type": "stream",
     "text": [
      "Everyone : 8715\n",
      "Teen : 1208\n",
      "Everyone 10+ : 414\n",
      "Mature 17+ : 499\n",
      "Adults only 18+ : 3\n",
      "Unrated : 2\n"
     ]
    }
   ],
   "source": [
    "for name in data[\"Content Rating\"].unique():\n",
    "    n=0\n",
    "    for i in data[\"Content Rating\"]:\n",
    "        if (i==name):\n",
    "            n=n+1\n",
    "\n",
    "    print(name,\":\",n)"
   ]
  },
  {
   "cell_type": "code",
   "execution_count": 35,
   "id": "a4c340b5",
   "metadata": {},
   "outputs": [
    {
     "name": "stdout",
     "output_type": "stream",
     "text": [
      "Adults only 18+ 1\n",
      "Adults only 18+ 2\n",
      "Adults only 18+ 3\n"
     ]
    }
   ],
   "source": [
    "n=0\n",
    "for i in data[\"Content Rating\"]:\n",
    "    if (i==\"Adults only 18+\"):\n",
    "        n=n+1\n",
    "        print(i,n)"
   ]
  },
  {
   "cell_type": "markdown",
   "id": "b00d577d",
   "metadata": {},
   "source": [
    "# Q12->What is the Total Numbers of Installs app and which got more Popularity?"
   ]
  },
  {
   "cell_type": "code",
   "execution_count": 36,
   "id": "c1f0c308",
   "metadata": {},
   "outputs": [
    {
     "name": "stdout",
     "output_type": "stream",
     "text": [
      "10,000+ : 1054\n",
      "500,000+ : 539\n",
      "5,000,000+ : 752\n",
      "50,000,000+ : 289\n",
      "100,000+ : 1169\n",
      "50,000+ : 479\n",
      "1,000,000+ : 1579\n",
      "10,000,000+ : 1252\n",
      "5,000+ : 477\n",
      "100,000,000+ : 409\n",
      "1,000,000,000+ : 58\n",
      "1,000+ : 907\n",
      "500,000,000+ : 72\n",
      "50+ : 205\n",
      "100+ : 719\n",
      "500+ : 330\n",
      "10+ : 386\n",
      "1+ : 67\n",
      "5+ : 82\n",
      "0+ : 14\n",
      "0 : 1\n",
      "Free : 1\n"
     ]
    }
   ],
   "source": [
    "for name in data[\"Installs\"].unique():\n",
    "    n=0\n",
    "    for i in data[\"Installs\"]:\n",
    "        if (i==name):\n",
    "            n=n+1\n",
    "            \n",
    "    print(name,\":\",n)"
   ]
  },
  {
   "cell_type": "code",
   "execution_count": 37,
   "id": "a67a0c8c",
   "metadata": {},
   "outputs": [
    {
     "data": {
      "text/plain": [
       "count          10841\n",
       "unique            22\n",
       "top       1,000,000+\n",
       "freq            1579\n",
       "Name: Installs, dtype: object"
      ]
     },
     "execution_count": 37,
     "metadata": {},
     "output_type": "execute_result"
    }
   ],
   "source": [
    "data[\"Installs\"].describe()"
   ]
  },
  {
   "cell_type": "code",
   "execution_count": 38,
   "id": "c0c3a5f1",
   "metadata": {},
   "outputs": [
    {
     "data": {
      "text/plain": [
       "count      10841\n",
       "unique      9660\n",
       "top       ROBLOX\n",
       "freq           9\n",
       "Name: App, dtype: object"
      ]
     },
     "execution_count": 38,
     "metadata": {},
     "output_type": "execute_result"
    }
   ],
   "source": [
    "data[\"App\"].describe()"
   ]
  },
  {
   "cell_type": "code",
   "execution_count": 39,
   "id": "9f7025c8",
   "metadata": {},
   "outputs": [
    {
     "data": {
      "text/plain": [
       "count      10841\n",
       "unique        34\n",
       "top       FAMILY\n",
       "freq        1972\n",
       "Name: Category, dtype: object"
      ]
     },
     "execution_count": 39,
     "metadata": {},
     "output_type": "execute_result"
    }
   ],
   "source": [
    "data[\"Category\"].describe()"
   ]
  },
  {
   "cell_type": "code",
   "execution_count": 40,
   "id": "513ff2fb",
   "metadata": {},
   "outputs": [
    {
     "data": {
      "text/plain": [
       "count     10841\n",
       "unique        3\n",
       "top        Free\n",
       "freq      10040\n",
       "Name: Type, dtype: object"
      ]
     },
     "execution_count": 40,
     "metadata": {},
     "output_type": "execute_result"
    }
   ],
   "source": [
    "data[\"Type\"].describe()"
   ]
  },
  {
   "cell_type": "code",
   "execution_count": 41,
   "id": "393a125d",
   "metadata": {},
   "outputs": [
    {
     "data": {
      "text/plain": [
       "count                  10841\n",
       "unique                   462\n",
       "top       Varies with device\n",
       "freq                    1695\n",
       "Name: Size, dtype: object"
      ]
     },
     "execution_count": 41,
     "metadata": {},
     "output_type": "execute_result"
    }
   ],
   "source": [
    "data[\"Size\"].describe()"
   ]
  },
  {
   "cell_type": "code",
   "execution_count": 42,
   "id": "953856e5",
   "metadata": {},
   "outputs": [
    {
     "data": {
      "text/plain": [
       "count     10841\n",
       "unique       93\n",
       "top           0\n",
       "freq      10040\n",
       "Name: Price, dtype: object"
      ]
     },
     "execution_count": 42,
     "metadata": {},
     "output_type": "execute_result"
    }
   ],
   "source": [
    "data[\"Price\"].describe()"
   ]
  },
  {
   "cell_type": "code",
   "execution_count": 43,
   "id": "29a554e3",
   "metadata": {},
   "outputs": [
    {
     "data": {
      "text/plain": [
       "count        10841\n",
       "unique           6\n",
       "top       Everyone\n",
       "freq          8715\n",
       "Name: Content Rating, dtype: object"
      ]
     },
     "execution_count": 43,
     "metadata": {},
     "output_type": "execute_result"
    }
   ],
   "source": [
    "data[\"Content Rating\"].describe()"
   ]
  },
  {
   "cell_type": "code",
   "execution_count": 44,
   "id": "44984cfe",
   "metadata": {},
   "outputs": [
    {
     "data": {
      "text/plain": [
       "count     10841\n",
       "unique     6002\n",
       "top           0\n",
       "freq        596\n",
       "Name: Reviews, dtype: object"
      ]
     },
     "execution_count": 44,
     "metadata": {},
     "output_type": "execute_result"
    }
   ],
   "source": [
    "data[\"Reviews\"].describe()"
   ]
  },
  {
   "cell_type": "code",
   "execution_count": 45,
   "id": "18a194d1",
   "metadata": {},
   "outputs": [
    {
     "data": {
      "text/plain": [
       "count    10841.000000\n",
       "mean         4.193338\n",
       "std          0.499557\n",
       "min          1.000000\n",
       "25%          4.100000\n",
       "50%          4.200000\n",
       "75%          4.500000\n",
       "max         19.000000\n",
       "Name: Rating, dtype: float64"
      ]
     },
     "execution_count": 45,
     "metadata": {},
     "output_type": "execute_result"
    }
   ],
   "source": [
    "data[\"Rating\"].describe()"
   ]
  },
  {
   "cell_type": "code",
   "execution_count": null,
   "id": "fe38f005",
   "metadata": {},
   "outputs": [],
   "source": []
  }
 ],
 "metadata": {
  "kernelspec": {
   "display_name": "Python 3 (ipykernel)",
   "language": "python",
   "name": "python3"
  },
  "language_info": {
   "codemirror_mode": {
    "name": "ipython",
    "version": 3
   },
   "file_extension": ".py",
   "mimetype": "text/x-python",
   "name": "python",
   "nbconvert_exporter": "python",
   "pygments_lexer": "ipython3",
   "version": "3.11.1"
  }
 },
 "nbformat": 4,
 "nbformat_minor": 5
}
