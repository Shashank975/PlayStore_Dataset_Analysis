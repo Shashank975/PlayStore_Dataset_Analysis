{
 "cells": [
  {
   "cell_type": "code",
   "execution_count": 1,
   "id": "3f92f982",
   "metadata": {},
   "outputs": [],
   "source": [
    "import numpy as np\n",
    "import pandas as pd\n",
    "import matplotlib.pyplot as plt\n",
    "%matplotlib inline"
   ]
  },
  {
   "cell_type": "code",
   "execution_count": 2,
   "id": "83532f52",
   "metadata": {},
   "outputs": [
    {
     "data": {
      "text/html": [
       "<div>\n",
       "<style scoped>\n",
       "    .dataframe tbody tr th:only-of-type {\n",
       "        vertical-align: middle;\n",
       "    }\n",
       "\n",
       "    .dataframe tbody tr th {\n",
       "        vertical-align: top;\n",
       "    }\n",
       "\n",
       "    .dataframe thead th {\n",
       "        text-align: right;\n",
       "    }\n",
       "</style>\n",
       "<table border=\"1\" class=\"dataframe\">\n",
       "  <thead>\n",
       "    <tr style=\"text-align: right;\">\n",
       "      <th></th>\n",
       "      <th>App</th>\n",
       "      <th>Category</th>\n",
       "      <th>Rating</th>\n",
       "      <th>Reviews</th>\n",
       "      <th>Size</th>\n",
       "      <th>Installs</th>\n",
       "      <th>Type</th>\n",
       "      <th>Price</th>\n",
       "      <th>Content Rating</th>\n",
       "      <th>Genres</th>\n",
       "      <th>Last Updated</th>\n",
       "      <th>Current Ver</th>\n",
       "      <th>Android Ver</th>\n",
       "    </tr>\n",
       "  </thead>\n",
       "  <tbody>\n",
       "    <tr>\n",
       "      <th>0</th>\n",
       "      <td>Photo Editor &amp; Candy Camera &amp; Grid &amp; ScrapBook</td>\n",
       "      <td>ART_AND_DESIGN</td>\n",
       "      <td>4.1</td>\n",
       "      <td>159</td>\n",
       "      <td>19M</td>\n",
       "      <td>10,000+</td>\n",
       "      <td>Free</td>\n",
       "      <td>0</td>\n",
       "      <td>Everyone</td>\n",
       "      <td>Art &amp; Design</td>\n",
       "      <td>January 7, 2018</td>\n",
       "      <td>1.0.0</td>\n",
       "      <td>4.0.3 and up</td>\n",
       "    </tr>\n",
       "    <tr>\n",
       "      <th>1</th>\n",
       "      <td>Coloring book moana</td>\n",
       "      <td>ART_AND_DESIGN</td>\n",
       "      <td>3.9</td>\n",
       "      <td>967</td>\n",
       "      <td>14M</td>\n",
       "      <td>500,000+</td>\n",
       "      <td>Free</td>\n",
       "      <td>0</td>\n",
       "      <td>Everyone</td>\n",
       "      <td>Art &amp; Design;Pretend Play</td>\n",
       "      <td>January 15, 2018</td>\n",
       "      <td>2.0.0</td>\n",
       "      <td>4.0.3 and up</td>\n",
       "    </tr>\n",
       "    <tr>\n",
       "      <th>2</th>\n",
       "      <td>U Launcher Lite – FREE Live Cool Themes, Hide ...</td>\n",
       "      <td>ART_AND_DESIGN</td>\n",
       "      <td>4.7</td>\n",
       "      <td>87510</td>\n",
       "      <td>8.7M</td>\n",
       "      <td>5,000,000+</td>\n",
       "      <td>Free</td>\n",
       "      <td>0</td>\n",
       "      <td>Everyone</td>\n",
       "      <td>Art &amp; Design</td>\n",
       "      <td>August 1, 2018</td>\n",
       "      <td>1.2.4</td>\n",
       "      <td>4.0.3 and up</td>\n",
       "    </tr>\n",
       "    <tr>\n",
       "      <th>3</th>\n",
       "      <td>Sketch - Draw &amp; Paint</td>\n",
       "      <td>ART_AND_DESIGN</td>\n",
       "      <td>4.5</td>\n",
       "      <td>215644</td>\n",
       "      <td>25M</td>\n",
       "      <td>50,000,000+</td>\n",
       "      <td>Free</td>\n",
       "      <td>0</td>\n",
       "      <td>Teen</td>\n",
       "      <td>Art &amp; Design</td>\n",
       "      <td>June 8, 2018</td>\n",
       "      <td>Varies with device</td>\n",
       "      <td>4.2 and up</td>\n",
       "    </tr>\n",
       "    <tr>\n",
       "      <th>4</th>\n",
       "      <td>Pixel Draw - Number Art Coloring Book</td>\n",
       "      <td>ART_AND_DESIGN</td>\n",
       "      <td>4.3</td>\n",
       "      <td>967</td>\n",
       "      <td>2.8M</td>\n",
       "      <td>100,000+</td>\n",
       "      <td>Free</td>\n",
       "      <td>0</td>\n",
       "      <td>Everyone</td>\n",
       "      <td>Art &amp; Design;Creativity</td>\n",
       "      <td>June 20, 2018</td>\n",
       "      <td>1.1</td>\n",
       "      <td>4.4 and up</td>\n",
       "    </tr>\n",
       "    <tr>\n",
       "      <th>...</th>\n",
       "      <td>...</td>\n",
       "      <td>...</td>\n",
       "      <td>...</td>\n",
       "      <td>...</td>\n",
       "      <td>...</td>\n",
       "      <td>...</td>\n",
       "      <td>...</td>\n",
       "      <td>...</td>\n",
       "      <td>...</td>\n",
       "      <td>...</td>\n",
       "      <td>...</td>\n",
       "      <td>...</td>\n",
       "      <td>...</td>\n",
       "    </tr>\n",
       "    <tr>\n",
       "      <th>10834</th>\n",
       "      <td>FR Calculator</td>\n",
       "      <td>FAMILY</td>\n",
       "      <td>4.0</td>\n",
       "      <td>7</td>\n",
       "      <td>2.6M</td>\n",
       "      <td>500+</td>\n",
       "      <td>Free</td>\n",
       "      <td>0</td>\n",
       "      <td>Everyone</td>\n",
       "      <td>Education</td>\n",
       "      <td>June 18, 2017</td>\n",
       "      <td>1.0.0</td>\n",
       "      <td>4.1 and up</td>\n",
       "    </tr>\n",
       "    <tr>\n",
       "      <th>10836</th>\n",
       "      <td>Sya9a Maroc - FR</td>\n",
       "      <td>FAMILY</td>\n",
       "      <td>4.5</td>\n",
       "      <td>38</td>\n",
       "      <td>53M</td>\n",
       "      <td>5,000+</td>\n",
       "      <td>Free</td>\n",
       "      <td>0</td>\n",
       "      <td>Everyone</td>\n",
       "      <td>Education</td>\n",
       "      <td>July 25, 2017</td>\n",
       "      <td>1.48</td>\n",
       "      <td>4.1 and up</td>\n",
       "    </tr>\n",
       "    <tr>\n",
       "      <th>10837</th>\n",
       "      <td>Fr. Mike Schmitz Audio Teachings</td>\n",
       "      <td>FAMILY</td>\n",
       "      <td>5.0</td>\n",
       "      <td>4</td>\n",
       "      <td>3.6M</td>\n",
       "      <td>100+</td>\n",
       "      <td>Free</td>\n",
       "      <td>0</td>\n",
       "      <td>Everyone</td>\n",
       "      <td>Education</td>\n",
       "      <td>July 6, 2018</td>\n",
       "      <td>1.0</td>\n",
       "      <td>4.1 and up</td>\n",
       "    </tr>\n",
       "    <tr>\n",
       "      <th>10839</th>\n",
       "      <td>The SCP Foundation DB fr nn5n</td>\n",
       "      <td>BOOKS_AND_REFERENCE</td>\n",
       "      <td>4.5</td>\n",
       "      <td>114</td>\n",
       "      <td>Varies with device</td>\n",
       "      <td>1,000+</td>\n",
       "      <td>Free</td>\n",
       "      <td>0</td>\n",
       "      <td>Mature 17+</td>\n",
       "      <td>Books &amp; Reference</td>\n",
       "      <td>January 19, 2015</td>\n",
       "      <td>Varies with device</td>\n",
       "      <td>Varies with device</td>\n",
       "    </tr>\n",
       "    <tr>\n",
       "      <th>10840</th>\n",
       "      <td>iHoroscope - 2018 Daily Horoscope &amp; Astrology</td>\n",
       "      <td>LIFESTYLE</td>\n",
       "      <td>4.5</td>\n",
       "      <td>398307</td>\n",
       "      <td>19M</td>\n",
       "      <td>10,000,000+</td>\n",
       "      <td>Free</td>\n",
       "      <td>0</td>\n",
       "      <td>Everyone</td>\n",
       "      <td>Lifestyle</td>\n",
       "      <td>July 25, 2018</td>\n",
       "      <td>Varies with device</td>\n",
       "      <td>Varies with device</td>\n",
       "    </tr>\n",
       "  </tbody>\n",
       "</table>\n",
       "<p>9360 rows × 13 columns</p>\n",
       "</div>"
      ],
      "text/plain": [
       "                                                     App             Category  \\\n",
       "0         Photo Editor & Candy Camera & Grid & ScrapBook       ART_AND_DESIGN   \n",
       "1                                    Coloring book moana       ART_AND_DESIGN   \n",
       "2      U Launcher Lite – FREE Live Cool Themes, Hide ...       ART_AND_DESIGN   \n",
       "3                                  Sketch - Draw & Paint       ART_AND_DESIGN   \n",
       "4                  Pixel Draw - Number Art Coloring Book       ART_AND_DESIGN   \n",
       "...                                                  ...                  ...   \n",
       "10834                                      FR Calculator               FAMILY   \n",
       "10836                                   Sya9a Maroc - FR               FAMILY   \n",
       "10837                   Fr. Mike Schmitz Audio Teachings               FAMILY   \n",
       "10839                      The SCP Foundation DB fr nn5n  BOOKS_AND_REFERENCE   \n",
       "10840      iHoroscope - 2018 Daily Horoscope & Astrology            LIFESTYLE   \n",
       "\n",
       "       Rating Reviews                Size     Installs  Type Price  \\\n",
       "0         4.1     159                 19M      10,000+  Free     0   \n",
       "1         3.9     967                 14M     500,000+  Free     0   \n",
       "2         4.7   87510                8.7M   5,000,000+  Free     0   \n",
       "3         4.5  215644                 25M  50,000,000+  Free     0   \n",
       "4         4.3     967                2.8M     100,000+  Free     0   \n",
       "...       ...     ...                 ...          ...   ...   ...   \n",
       "10834     4.0       7                2.6M         500+  Free     0   \n",
       "10836     4.5      38                 53M       5,000+  Free     0   \n",
       "10837     5.0       4                3.6M         100+  Free     0   \n",
       "10839     4.5     114  Varies with device       1,000+  Free     0   \n",
       "10840     4.5  398307                 19M  10,000,000+  Free     0   \n",
       "\n",
       "      Content Rating                     Genres      Last Updated  \\\n",
       "0           Everyone               Art & Design   January 7, 2018   \n",
       "1           Everyone  Art & Design;Pretend Play  January 15, 2018   \n",
       "2           Everyone               Art & Design    August 1, 2018   \n",
       "3               Teen               Art & Design      June 8, 2018   \n",
       "4           Everyone    Art & Design;Creativity     June 20, 2018   \n",
       "...              ...                        ...               ...   \n",
       "10834       Everyone                  Education     June 18, 2017   \n",
       "10836       Everyone                  Education     July 25, 2017   \n",
       "10837       Everyone                  Education      July 6, 2018   \n",
       "10839     Mature 17+          Books & Reference  January 19, 2015   \n",
       "10840       Everyone                  Lifestyle     July 25, 2018   \n",
       "\n",
       "              Current Ver         Android Ver  \n",
       "0                   1.0.0        4.0.3 and up  \n",
       "1                   2.0.0        4.0.3 and up  \n",
       "2                   1.2.4        4.0.3 and up  \n",
       "3      Varies with device          4.2 and up  \n",
       "4                     1.1          4.4 and up  \n",
       "...                   ...                 ...  \n",
       "10834               1.0.0          4.1 and up  \n",
       "10836                1.48          4.1 and up  \n",
       "10837                 1.0          4.1 and up  \n",
       "10839  Varies with device  Varies with device  \n",
       "10840  Varies with device  Varies with device  \n",
       "\n",
       "[9360 rows x 13 columns]"
      ]
     },
     "execution_count": 2,
     "metadata": {},
     "output_type": "execute_result"
    }
   ],
   "source": [
    "data=pd.read_csv(\"googleplaystore.csv\").dropna()\n",
    "data"
   ]
  },
  {
   "cell_type": "code",
   "execution_count": 3,
   "id": "3e53dc68",
   "metadata": {},
   "outputs": [
    {
     "name": "stdout",
     "output_type": "stream",
     "text": [
      "App\n",
      "Category\n",
      "Rating\n",
      "Reviews\n",
      "Size\n",
      "Installs\n",
      "Type\n",
      "Price\n",
      "Content Rating\n",
      "Genres\n",
      "Last Updated\n",
      "Current Ver\n",
      "Android Ver\n"
     ]
    }
   ],
   "source": [
    "for i in data.columns:\n",
    "    print(i)"
   ]
  },
  {
   "cell_type": "code",
   "execution_count": 4,
   "id": "5f5c191e",
   "metadata": {},
   "outputs": [
    {
     "name": "stdout",
     "output_type": "stream",
     "text": [
      "{'ART_AND_DESIGN': 61, 'AUTO_AND_VEHICLES': 73, 'BEAUTY': 42, 'BOOKS_AND_REFERENCE': 178, 'BUSINESS': 303, 'COMICS': 58, 'COMMUNICATION': 328, 'DATING': 195, 'EDUCATION': 155, 'ENTERTAINMENT': 149, 'EVENTS': 45, 'FINANCE': 323, 'FOOD_AND_DRINK': 109, 'HEALTH_AND_FITNESS': 297, 'HOUSE_AND_HOME': 76, 'LIBRARIES_AND_DEMO': 64, 'LIFESTYLE': 314, 'GAME': 1097, 'FAMILY': 1746, 'MEDICAL': 350, 'SOCIAL': 259, 'SHOPPING': 238, 'PHOTOGRAPHY': 317, 'SPORTS': 319, 'TRAVEL_AND_LOCAL': 226, 'TOOLS': 733, 'PERSONALIZATION': 312, 'PRODUCTIVITY': 351, 'PARENTING': 50, 'WEATHER': 75, 'VIDEO_PLAYERS': 160, 'NEWS_AND_MAGAZINES': 233, 'MAPS_AND_NAVIGATION': 124}\n"
     ]
    }
   ],
   "source": [
    "category={}\n",
    "for name in data[\"Category\"].unique():\n",
    "    c=0\n",
    "    for i in data[\"Category\"]:\n",
    "        if (i== name):\n",
    "            c=c+1\n",
    "    category[name]=c\n",
    "\n",
    "print(category)\n"
   ]
  },
  {
   "cell_type": "code",
   "execution_count": 5,
   "id": "965d1a8c",
   "metadata": {},
   "outputs": [
    {
     "name": "stdout",
     "output_type": "stream",
     "text": [
      "Free : 8715\n",
      "Paid : 645\n"
     ]
    }
   ],
   "source": [
    "for name in data[\"Type\"].unique():\n",
    "    n=0\n",
    "    for i in data[\"Type\"]:\n",
    "        if (i==name):\n",
    "            n=n+1\n",
    "    print(name,\":\",n)\n"
   ]
  },
  {
   "cell_type": "code",
   "execution_count": null,
   "id": "dc40dbb4",
   "metadata": {},
   "outputs": [],
   "source": []
  },
  {
   "cell_type": "code",
   "execution_count": 6,
   "id": "611f1e2e",
   "metadata": {},
   "outputs": [
    {
     "name": "stdout",
     "output_type": "stream",
     "text": [
      "Art & Design : 55\n",
      "Art & Design;Pretend Play : 2\n",
      "Art & Design;Creativity : 7\n",
      "Auto & Vehicles : 73\n",
      "Beauty : 42\n",
      "Books & Reference : 178\n",
      "Business : 303\n",
      "Comics : 57\n",
      "Comics;Creativity : 1\n",
      "Communication : 328\n",
      "Dating : 195\n",
      "Education;Education : 50\n",
      "Education : 468\n",
      "Education;Creativity : 7\n",
      "Education;Music & Video : 5\n",
      "Education;Action & Adventure : 6\n",
      "Education;Pretend Play : 23\n",
      "Education;Brain Games : 4\n",
      "Entertainment : 533\n",
      "Entertainment;Music & Video : 27\n",
      "Entertainment;Brain Games : 8\n",
      "Entertainment;Creativity : 3\n",
      "Events : 45\n",
      "Finance : 323\n",
      "Food & Drink : 109\n",
      "Health & Fitness : 297\n",
      "House & Home : 76\n",
      "Libraries & Demo : 64\n",
      "Lifestyle : 313\n",
      "Lifestyle;Pretend Play : 1\n",
      "Adventure;Action & Adventure : 13\n",
      "Arcade : 207\n",
      "Casual : 185\n",
      "Card : 45\n",
      "Casual;Pretend Play : 31\n",
      "Action : 358\n",
      "Strategy : 103\n",
      "Puzzle : 120\n",
      "Sports : 333\n",
      "Music : 21\n",
      "Word : 28\n",
      "Racing : 93\n",
      "Casual;Creativity : 7\n",
      "Casual;Action & Adventure : 21\n",
      "Simulation : 194\n",
      "Adventure : 73\n",
      "Board : 41\n",
      "Trivia : 28\n",
      "Role Playing : 106\n",
      "Simulation;Education : 3\n",
      "Action;Action & Adventure : 17\n",
      "Casual;Brain Games : 13\n",
      "Simulation;Action & Adventure : 11\n",
      "Educational;Creativity : 5\n",
      "Puzzle;Brain Games : 19\n",
      "Educational;Education : 38\n",
      "Card;Brain Games : 1\n",
      "Educational;Brain Games : 6\n",
      "Educational;Pretend Play : 18\n",
      "Entertainment;Education : 1\n",
      "Casual;Education : 3\n",
      "Music;Music & Video : 3\n",
      "Racing;Action & Adventure : 20\n",
      "Arcade;Pretend Play : 1\n",
      "Role Playing;Action & Adventure : 7\n",
      "Simulation;Pretend Play : 4\n",
      "Puzzle;Creativity : 2\n",
      "Sports;Action & Adventure : 4\n",
      "Educational;Action & Adventure : 4\n",
      "Arcade;Action & Adventure : 15\n",
      "Entertainment;Action & Adventure : 3\n",
      "Puzzle;Action & Adventure : 5\n",
      "Strategy;Action & Adventure : 2\n",
      "Music & Audio;Music & Video : 1\n",
      "Health & Fitness;Education : 1\n",
      "Adventure;Education : 2\n",
      "Board;Brain Games : 15\n",
      "Board;Action & Adventure : 3\n",
      "Board;Pretend Play : 1\n",
      "Casual;Music & Video : 2\n",
      "Role Playing;Pretend Play : 5\n",
      "Entertainment;Pretend Play : 2\n",
      "Video Players & Editors;Creativity : 2\n",
      "Card;Action & Adventure : 2\n",
      "Medical : 350\n",
      "Social : 259\n",
      "Shopping : 238\n",
      "Photography : 317\n",
      "Travel & Local : 225\n",
      "Travel & Local;Action & Adventure : 1\n",
      "Tools : 732\n",
      "Tools;Education : 1\n",
      "Personalization : 312\n",
      "Productivity : 351\n",
      "Parenting : 40\n",
      "Parenting;Music & Video : 6\n",
      "Parenting;Brain Games : 1\n",
      "Parenting;Education : 3\n",
      "Weather : 75\n",
      "Video Players & Editors : 158\n",
      "Video Players & Editors;Music & Video : 3\n",
      "News & Magazines : 233\n",
      "Maps & Navigation : 124\n",
      "Health & Fitness;Action & Adventure : 1\n",
      "Educational : 32\n",
      "Casino : 37\n",
      "Adventure;Brain Games : 1\n",
      "Lifestyle;Education : 1\n",
      "Books & Reference;Education : 2\n",
      "Puzzle;Education : 1\n",
      "Role Playing;Brain Games : 1\n",
      "Strategy;Education : 1\n",
      "Racing;Pretend Play : 1\n",
      "Communication;Creativity : 1\n",
      "Strategy;Creativity : 1\n"
     ]
    }
   ],
   "source": [
    "for name in data[\"Genres\"].unique():\n",
    "    n=0\n",
    "    for i in data[\"Genres\"]:\n",
    "        if (i==name):\n",
    "            n=n+1\n",
    "    print(name,\":\",n)\n",
    "       \n",
    "   \n",
    "    \n",
    "    \n",
    "    \n",
    "    "
   ]
  },
  {
   "cell_type": "code",
   "execution_count": 7,
   "id": "4ef7e926",
   "metadata": {},
   "outputs": [
    {
     "name": "stdout",
     "output_type": "stream",
     "text": [
      "4.1 : 707\n",
      "3.9 : 386\n",
      "4.7 : 499\n",
      "4.5 : 1037\n",
      "4.3 : 1076\n",
      "4.4 : 1108\n",
      "3.8 : 303\n",
      "4.2 : 951\n",
      "4.6 : 823\n",
      "4.0 : 567\n",
      "4.8 : 234\n",
      "4.9 : 87\n",
      "3.6 : 174\n",
      "3.7 : 239\n",
      "3.2 : 63\n",
      "3.3 : 102\n",
      "3.4 : 128\n",
      "3.5 : 163\n",
      "3.1 : 69\n",
      "5.0 : 274\n",
      "2.6 : 25\n",
      "3.0 : 83\n",
      "1.9 : 13\n",
      "2.5 : 21\n",
      "2.8 : 42\n",
      "2.7 : 25\n",
      "1.0 : 16\n",
      "2.9 : 45\n",
      "2.3 : 20\n",
      "2.2 : 14\n",
      "1.7 : 8\n",
      "2.0 : 12\n",
      "1.8 : 8\n",
      "2.4 : 19\n",
      "1.6 : 4\n",
      "2.1 : 8\n",
      "1.4 : 3\n",
      "1.5 : 3\n",
      "1.2 : 1\n"
     ]
    }
   ],
   "source": [
    "for name in data[\"Rating\"].unique():\n",
    "    n=0\n",
    "    for i in data[\"Rating\"]:\n",
    "        if (i==name):\n",
    "            n=n+1\n",
    "    print(name,\":\",n)"
   ]
  },
  {
   "cell_type": "code",
   "execution_count": 8,
   "id": "49151f95",
   "metadata": {},
   "outputs": [
    {
     "name": "stdout",
     "output_type": "stream",
     "text": [
      "3\n"
     ]
    }
   ],
   "source": [
    "r=0\n",
    "for i in data[\"Rating\"]:\n",
    "    if (i==1.5):\n",
    "        r=r+1\n",
    "print(r)"
   ]
  },
  {
   "cell_type": "code",
   "execution_count": 9,
   "id": "36b5a242",
   "metadata": {},
   "outputs": [
    {
     "name": "stdout",
     "output_type": "stream",
     "text": [
      "Everyone : 7414\n",
      "Teen : 1084\n",
      "Everyone 10+ : 397\n",
      "Mature 17+ : 461\n",
      "Adults only 18+ : 3\n",
      "Unrated : 1\n"
     ]
    }
   ],
   "source": [
    "for name in data[\"Content Rating\"].unique():\n",
    "    n=0\n",
    "    for i in data[\"Content Rating\"]:\n",
    "        if (i==name):\n",
    "            n=n+1\n",
    "\n",
    "    print(name,\":\",n)\n"
   ]
  },
  {
   "cell_type": "code",
   "execution_count": 10,
   "id": "3a612796",
   "metadata": {},
   "outputs": [
    {
     "name": "stdout",
     "output_type": "stream",
     "text": [
      "Adults only 18+ 1\n",
      "Adults only 18+ 2\n",
      "Adults only 18+ 3\n"
     ]
    }
   ],
   "source": [
    "n=0\n",
    "for i in data[\"Content Rating\"]:\n",
    "    if (i==\"Adults only 18+\"):\n",
    "        n=n+1\n",
    "        print(i,n)"
   ]
  },
  {
   "cell_type": "code",
   "execution_count": 11,
   "id": "8387b775",
   "metadata": {},
   "outputs": [
    {
     "name": "stdout",
     "output_type": "stream",
     "text": [
      "10,000+ : 1009\n",
      "500,000+ : 537\n",
      "5,000,000+ : 752\n",
      "50,000,000+ : 289\n",
      "100,000+ : 1150\n",
      "50,000+ : 466\n",
      "1,000,000+ : 1576\n",
      "10,000,000+ : 1252\n",
      "5,000+ : 431\n",
      "100,000,000+ : 409\n",
      "1,000,000,000+ : 58\n",
      "1,000+ : 712\n",
      "500,000,000+ : 72\n",
      "100+ : 309\n",
      "500+ : 201\n",
      "10+ : 69\n",
      "5+ : 9\n",
      "50+ : 56\n",
      "1+ : 3\n"
     ]
    }
   ],
   "source": [
    "for name in data[\"Installs\"].unique():\n",
    "    n=0\n",
    "    for i in data[\"Installs\"]:\n",
    "        if (i==name):\n",
    "            n=n+1\n",
    "            \n",
    "    print(name,\":\",n)"
   ]
  },
  {
   "cell_type": "code",
   "execution_count": 12,
   "id": "685f43a7",
   "metadata": {},
   "outputs": [
    {
     "data": {
      "text/plain": [
       "count           9360\n",
       "unique            19\n",
       "top       1,000,000+\n",
       "freq            1576\n",
       "Name: Installs, dtype: object"
      ]
     },
     "execution_count": 12,
     "metadata": {},
     "output_type": "execute_result"
    }
   ],
   "source": [
    "data[\"Installs\"].describe()"
   ]
  },
  {
   "cell_type": "code",
   "execution_count": 13,
   "id": "e3c08dc5",
   "metadata": {},
   "outputs": [
    {
     "data": {
      "text/plain": [
       "count       9360\n",
       "unique      8190\n",
       "top       ROBLOX\n",
       "freq           9\n",
       "Name: App, dtype: object"
      ]
     },
     "execution_count": 13,
     "metadata": {},
     "output_type": "execute_result"
    }
   ],
   "source": [
    "data[\"App\"].describe()"
   ]
  },
  {
   "cell_type": "code",
   "execution_count": 14,
   "id": "abe73e83",
   "metadata": {},
   "outputs": [
    {
     "data": {
      "text/plain": [
       "count       9360\n",
       "unique        33\n",
       "top       FAMILY\n",
       "freq        1746\n",
       "Name: Category, dtype: object"
      ]
     },
     "execution_count": 14,
     "metadata": {},
     "output_type": "execute_result"
    }
   ],
   "source": [
    "data[\"Category\"].describe()"
   ]
  },
  {
   "cell_type": "code",
   "execution_count": 15,
   "id": "3762a122",
   "metadata": {},
   "outputs": [
    {
     "data": {
      "text/plain": [
       "count     9360\n",
       "unique       2\n",
       "top       Free\n",
       "freq      8715\n",
       "Name: Type, dtype: object"
      ]
     },
     "execution_count": 15,
     "metadata": {},
     "output_type": "execute_result"
    }
   ],
   "source": [
    "data[\"Type\"].describe()"
   ]
  },
  {
   "cell_type": "code",
   "execution_count": 16,
   "id": "4adaba61",
   "metadata": {},
   "outputs": [
    {
     "data": {
      "text/plain": [
       "count                   9360\n",
       "unique                   413\n",
       "top       Varies with device\n",
       "freq                    1637\n",
       "Name: Size, dtype: object"
      ]
     },
     "execution_count": 16,
     "metadata": {},
     "output_type": "execute_result"
    }
   ],
   "source": [
    "data[\"Size\"].describe()"
   ]
  },
  {
   "cell_type": "code",
   "execution_count": 17,
   "id": "6a90c9e6",
   "metadata": {},
   "outputs": [
    {
     "data": {
      "text/plain": [
       "count     9360\n",
       "unique      73\n",
       "top          0\n",
       "freq      8715\n",
       "Name: Price, dtype: object"
      ]
     },
     "execution_count": 17,
     "metadata": {},
     "output_type": "execute_result"
    }
   ],
   "source": [
    "data[\"Price\"].describe()"
   ]
  },
  {
   "cell_type": "code",
   "execution_count": 18,
   "id": "b73d07bb",
   "metadata": {},
   "outputs": [
    {
     "data": {
      "text/plain": [
       "count         9360\n",
       "unique           6\n",
       "top       Everyone\n",
       "freq          7414\n",
       "Name: Content Rating, dtype: object"
      ]
     },
     "execution_count": 18,
     "metadata": {},
     "output_type": "execute_result"
    }
   ],
   "source": [
    "data[\"Content Rating\"].describe()"
   ]
  },
  {
   "cell_type": "code",
   "execution_count": 19,
   "id": "d95fe38e",
   "metadata": {},
   "outputs": [
    {
     "data": {
      "text/plain": [
       "count     9360\n",
       "unique    5990\n",
       "top          2\n",
       "freq        83\n",
       "Name: Reviews, dtype: object"
      ]
     },
     "execution_count": 19,
     "metadata": {},
     "output_type": "execute_result"
    }
   ],
   "source": [
    "data[\"Reviews\"].describe()"
   ]
  },
  {
   "cell_type": "code",
   "execution_count": 20,
   "id": "0bd5afda",
   "metadata": {},
   "outputs": [
    {
     "data": {
      "text/plain": [
       "count    9360.000000\n",
       "mean        4.191838\n",
       "std         0.515263\n",
       "min         1.000000\n",
       "25%         4.000000\n",
       "50%         4.300000\n",
       "75%         4.500000\n",
       "max         5.000000\n",
       "Name: Rating, dtype: float64"
      ]
     },
     "execution_count": 20,
     "metadata": {},
     "output_type": "execute_result"
    }
   ],
   "source": [
    "data[\"Rating\"].describe()"
   ]
  },
  {
   "cell_type": "code",
   "execution_count": null,
   "id": "46d639e2",
   "metadata": {},
   "outputs": [],
   "source": []
  }
 ],
 "metadata": {
  "kernelspec": {
   "display_name": "Python 3 (ipykernel)",
   "language": "python",
   "name": "python3"
  },
  "language_info": {
   "codemirror_mode": {
    "name": "ipython",
    "version": 3
   },
   "file_extension": ".py",
   "mimetype": "text/x-python",
   "name": "python",
   "nbconvert_exporter": "python",
   "pygments_lexer": "ipython3",
   "version": "3.11.1"
  }
 },
 "nbformat": 4,
 "nbformat_minor": 5
}
